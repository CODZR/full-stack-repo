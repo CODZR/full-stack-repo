{
 "cells": [
  {
   "attachments": {},
   "cell_type": "markdown",
   "metadata": {},
   "source": [
    "Use this notebook to invoke APIs or play with code without having to send Slack messages and search for Cloudwatch Logs.\n",
    "\n",
    "To run this notebook, you need to setup AWS credentials and get permission to read couple of secrets from AWS SSM.\n",
    "\n",
    "Duplicate this file as \"playground.ipynb\" so that it won't be tracked by git."
   ]
  },
  {
   "cell_type": "code",
   "execution_count": null,
   "metadata": {},
   "outputs": [],
   "source": [
    "import sys\n",
    "\n",
    "# So that we can import modules from the parent directory, such as:\n",
    "# from chalicelib import slack\n",
    "#\n",
    "# If Jupyter kernel complains about something not defined but you're sure it's defined,\n",
    "# try restarting the kernel.\n",
    "sys.path.append(\"..\")"
   ]
  },
  {
   "cell_type": "code",
   "execution_count": null,
   "metadata": {},
   "outputs": [],
   "source": [
    "from chalicelib import slack\n",
    "\n",
    "bot = slack.client.auth_test()\n",
    "print(bot)\n"
   ]
  }
 ],
 "metadata": {
  "kernelspec": {
   "display_name": "venv39",
   "language": "python",
   "name": "python3"
  },
  "language_info": {
   "codemirror_mode": {
    "name": "ipython",
    "version": 3
   },
   "file_extension": ".py",
   "mimetype": "text/x-python",
   "name": "python",
   "nbconvert_exporter": "python",
   "pygments_lexer": "ipython3",
   "version": "3.9.16"
  },
  "orig_nbformat": 4
 },
 "nbformat": 4,
 "nbformat_minor": 2
}
